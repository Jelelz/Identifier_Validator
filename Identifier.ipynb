{
  "nbformat": 4,
  "nbformat_minor": 0,
  "metadata": {
    "colab": {
      "provenance": []
    },
    "kernelspec": {
      "name": "python3",
      "display_name": "Python 3"
    },
    "language_info": {
      "name": "python"
    }
  },
  "cells": [
    {
      "cell_type": "code",
      "execution_count": 1,
      "metadata": {
        "id": "Wfljw18FknGt"
      },
      "outputs": [],
      "source": [
        "import re"
      ]
    },
    {
      "cell_type": "code",
      "source": [
        "def valid_identifier(identifier):\n",
        "    # Regex for valid identifier\n",
        "    pattern = r'^[a-zA-Z_][a-zA-Z0-9_]*$'\n",
        "    return bool(re.match(pattern, identifier))"
      ],
      "metadata": {
        "id": "sacy0l8glfGd"
      },
      "execution_count": 3,
      "outputs": []
    },
    {
      "cell_type": "code",
      "source": [
        "user_input = input(\"Enter an identifier: \")"
      ],
      "metadata": {
        "colab": {
          "base_uri": "https://localhost:8080/"
        },
        "id": "qOxVy8MYmH_I",
        "outputId": "4f0de4c3-77ed-4db6-c2a1-2bc44b749848"
      },
      "execution_count": 12,
      "outputs": [
        {
          "name": "stdout",
          "output_type": "stream",
          "text": [
            "Enter an identifier: a#c\n"
          ]
        }
      ]
    },
    {
      "cell_type": "code",
      "source": [
        "if valid_identifier(user_input):\n",
        "    print(f\"{user_input} is a valid identifier.\")\n",
        "else:\n",
        "    print(f\"{user_input} is not a valid identifier.\")"
      ],
      "metadata": {
        "colab": {
          "base_uri": "https://localhost:8080/"
        },
        "id": "tT9AmLTOlsMG",
        "outputId": "3eddf196-d226-498e-c56f-6e5d866234c7"
      },
      "execution_count": 13,
      "outputs": [
        {
          "output_type": "stream",
          "name": "stdout",
          "text": [
            "a#c is not a valid identifier.\n"
          ]
        }
      ]
    }
  ]
}